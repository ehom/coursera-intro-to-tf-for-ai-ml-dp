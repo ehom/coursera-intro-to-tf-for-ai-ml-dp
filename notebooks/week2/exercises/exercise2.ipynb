{
 "cells": [
  {
   "attachments": {},
   "cell_type": "markdown",
   "metadata": {},
   "source": [
    "### Source\n",
    "\n",
    "* https://github.com/lmoroney/dlaicourse/blob/master/Exercises/Exercise%202%20-%20Handwriting%20Recognition/Exercise2-Question.ipynb"
   ]
  },
  {
   "cell_type": "code",
   "execution_count": 16,
   "metadata": {},
   "outputs": [
    {
     "name": "stdout",
     "output_type": "stream",
     "text": [
      "Epoch 1/10\n",
      "1875/1875 [==============================] - 4s 2ms/step - loss: 0.2558 - accuracy: 0.9272\n",
      "Epoch 2/10\n",
      "1875/1875 [==============================] - 3s 2ms/step - loss: 0.1125 - accuracy: 0.9666\n",
      "Epoch 3/10\n",
      "1875/1875 [==============================] - 3s 2ms/step - loss: 0.0779 - accuracy: 0.9771\n",
      "Epoch 4/10\n",
      "1875/1875 [==============================] - 3s 2ms/step - loss: 0.0568 - accuracy: 0.9830\n",
      "Epoch 5/10\n",
      "1875/1875 [==============================] - 3s 2ms/step - loss: 0.0439 - accuracy: 0.9866\n",
      "Epoch 6/10\n",
      "1875/1875 [==============================] - 3s 2ms/step - loss: 0.0359 - accuracy: 0.9887\n",
      "Epoch 7/10\n",
      "1863/1875 [============================>.] - ETA: 0s - loss: 0.0279 - accuracy: 0.9918\n",
      "Reached 99.0% accuracy so cancelling training!\n",
      "1875/1875 [==============================] - 3s 2ms/step - loss: 0.0282 - accuracy: 0.9917\n",
      "313/313 [==============================] - 0s 1ms/step - loss: 0.0825 - accuracy: 0.9769\n"
     ]
    },
    {
     "data": {
      "text/plain": [
       "[0.08247583359479904, 0.9768999814987183]"
      ]
     },
     "execution_count": 16,
     "metadata": {},
     "output_type": "execute_result"
    }
   ],
   "source": [
    "# YOUR CODE SHOULD START HERE\n",
    "NEURONS = 128\n",
    "# YOUR CODE SHOULD END HERE\n",
    "\n",
    "import tensorflow as tf\n",
    "mnist = tf.keras.datasets.mnist\n",
    "\n",
    "(x_train, y_train),(x_test, y_test) = mnist.load_data()\n",
    "# YOUR CODE SHOULD START HERE\n",
    "x_train = x_train/255.0\n",
    "x_test = x_test/255.0\n",
    "# YOUR CODE SHOULD END HERE\n",
    "\n",
    "model = tf.keras.models.Sequential([\n",
    "    tf.keras.layers.Flatten(input_shape=(28, 28)), # this layer must be the same shape as your data input\n",
    "    tf.keras.layers.Dense(NEURONS, activation=tf.nn.relu), # Try experimenting with this layer\n",
    "    tf.keras.layers.Dense(10, activation=tf.nn.softmax)\n",
    "])\n",
    "\n",
    "model.compile(optimizer='adam',\n",
    "              loss='sparse_categorical_crossentropy',\n",
    "              metrics=['accuracy'])\n",
    "\n",
    "# YOUR CODE SHOULD START HERE\n",
    "TARGET_ACCURACY = .99\n",
    "NUMBER_OF_EPOCHS = 10\n",
    "\n",
    "class myCallback(tf.keras.callbacks.Callback):\n",
    "  def on_epoch_end(self, epoch, logs={}):\n",
    "    if(logs.get('accuracy') >= TARGET_ACCURACY): # Experiment with changing this value\n",
    "      print(\"\\nReached {}% accuracy so cancelling training!\".format(TARGET_ACCURACY * 100))\n",
    "      self.model.stop_training = True\n",
    "\n",
    "model.fit(x_train, y_train, epochs=NUMBER_OF_EPOCHS, callbacks=[myCallback()])\n",
    "\n",
    "model.evaluate(x_test, y_test)\n",
    "\n",
    "# YOUR CODE SHOULD END HERE"
   ]
  },
  {
   "cell_type": "code",
   "execution_count": 22,
   "metadata": {},
   "outputs": [
    {
     "name": "stdout",
     "output_type": "stream",
     "text": [
      "  1/313 [..............................] - ETA: 4s"
     ]
    },
    {
     "name": "stdout",
     "output_type": "stream",
     "text": [
      "313/313 [==============================] - 0s 934us/step\n",
      "number of classes: 10\n",
      "classes: [2.3693339e-08 9.3366995e-11 1.4875402e-05 5.8116380e-05 1.0486555e-12\n",
      " 1.7711523e-10 9.6777360e-15 9.9992675e-01 3.3032638e-08 3.6851691e-08]\n",
      "99.99% confident\n",
      "7\n"
     ]
    }
   ],
   "source": [
    "classifications = model.predict(x_test)\n",
    "\n",
    "classification = classifications[0]\n",
    "print(\"number of classes:\", len(classifications[0]))\n",
    "print(\"classes:\", classifications[0])\n",
    "print(\"{}% confident\".format(round(classification[y_test[0]] * 100, 2)))\n",
    "\n",
    "print(y_test[0])\n"
   ]
  }
 ],
 "metadata": {
  "kernelspec": {
   "display_name": "Python 3",
   "language": "python",
   "name": "python3"
  },
  "language_info": {
   "codemirror_mode": {
    "name": "ipython",
    "version": 3
   },
   "file_extension": ".py",
   "mimetype": "text/x-python",
   "name": "python",
   "nbconvert_exporter": "python",
   "pygments_lexer": "ipython3",
   "version": "3.10.8"
  },
  "orig_nbformat": 4
 },
 "nbformat": 4,
 "nbformat_minor": 2
}
